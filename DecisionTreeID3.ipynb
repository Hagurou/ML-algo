{
  "nbformat": 4,
  "nbformat_minor": 0,
  "metadata": {
    "colab": {
      "provenance": [],
      "authorship_tag": "ABX9TyO1gGQf4K4N/7pBrYyzKx3p",
      "include_colab_link": true
    },
    "kernelspec": {
      "name": "python3",
      "display_name": "Python 3"
    },
    "language_info": {
      "name": "python"
    }
  },
  "cells": [
    {
      "cell_type": "markdown",
      "metadata": {
        "id": "view-in-github",
        "colab_type": "text"
      },
      "source": [
        "<a href=\"https://colab.research.google.com/github/Hagurou/ML-algo/blob/main/DecisionTreeID3.ipynb\" target=\"_parent\"><img src=\"https://colab.research.google.com/assets/colab-badge.svg\" alt=\"Open In Colab\"/></a>"
      ]
    },
    {
      "cell_type": "code",
      "execution_count": null,
      "metadata": {
        "id": "t3xjzCm6QV8B"
      },
      "outputs": [],
      "source": [
        "import numpy as np\n",
        "import pandas as pd\n",
        "from typing import List, Optional"
      ]
    },
    {
      "cell_type": "code",
      "source": [
        "def entropy(freq: np.ndarray) -> float:\n",
        "    freq = freq[freq > 0]\n",
        "    if len(freq) == 0:\n",
        "        return 0.0\n",
        "    probs = freq / freq.sum()\n",
        "    return -np.sum(probs * np.log2(probs))"
      ],
      "metadata": {
        "id": "R5IIDOb3bQrp"
      },
      "execution_count": null,
      "outputs": []
    },
    {
      "cell_type": "code",
      "source": [
        "class TreeNode:\n",
        "  def __init__(self,ids: List[int],entropy: float,depth: int,children: Optional[List[\"TreeNode\"]] = None,split_attribute: Optional[str] = None,order: Optional[List[str]] = None,label: Optional[str] = None):\n",
        "    self.ids = ids\n",
        "    self.entropy = entropy\n",
        "    self.depth = depth\n",
        "    self.split_attribute = split_attribute\n",
        "    self.children = children or []\n",
        "    self.order = order\n",
        "    self.label = label"
      ],
      "metadata": {
        "id": "fx4e7ifLmnPr"
      },
      "execution_count": null,
      "outputs": []
    },
    {
      "cell_type": "code",
      "source": [
        "class DecisionTreeID3:\n",
        "  def __init__(self, max_depth: int = 10, min_samples_split: int = 2, min_gain: float = 1e-4):\n",
        "   self.root = None\n",
        "   self.max_depth = max_depth\n",
        "   self.min_samples_split = min_samples_split\n",
        "   self.min_gain = min_gain\n",
        "   self.data = None\n",
        "   self.target = None\n",
        "   self.attributes = None\n",
        "   self.labels = None\n",
        "   self.n_train = 0\n",
        "  def _entropy(self, ids: List[int]) -> float:\n",
        "        if not ids:\n",
        "            return 0.0\n",
        "        freq = np.array(self.target.iloc[ids].value_counts())\n",
        "        return entropy(freq)\n",
        "\n",
        "  def _discretize_numeric(self, data: pd.DataFrame, attribute: str, n_bins: int = 3) -> pd.Series:\n",
        "        if data[attribute].dtype in (np.float64, np.int64):\n",
        "            return pd.cut(data[attribute], bins=n_bins, labels=False, include_lowest=True).astype(str)\n",
        "        return data[attribute]\n",
        "\n",
        "  def _split(self, node: TreeNode) -> List[TreeNode]:\n",
        "        if len(node.ids) < self.min_samples_split:\n",
        "            return []\n",
        "\n",
        "        best_gain = 0\n",
        "        best_attribute = None\n",
        "        best_splits = None\n",
        "        best_order = None\n",
        "        sub_data = self.data.iloc[node.ids]\n",
        "\n",
        "        for attribute in self.attributes:\n",
        "            values = self._discretize_numeric(sub_data, attribute).unique()\n",
        "            if len(values) <= 1:\n",
        "                continue\n",
        "\n",
        "            splits = [sub_data.index[sub_data[attribute] == val].tolist() for val in values]\n",
        "            splits = [[idx for idx in split if idx in node.ids] for split in splits]\n",
        "\n",
        "            if any(len(split) < self.min_samples_split for split in splits):\n",
        "                continue\n",
        "            conditional_entropy = sum(\n",
        "                len(split) / len(node.ids) * self._entropy(split) for split in splits\n",
        "            )\n",
        "            gain = node.entropy - conditional_entropy\n",
        "\n",
        "            if gain > best_gain and gain >= self.min_gain:\n",
        "                best_gain = gain\n",
        "                best_attribute = attribute\n",
        "                best_splits = splits\n",
        "                best_order = values.tolist()\n",
        "\n",
        "        if best_attribute is None:\n",
        "            return []\n",
        "\n",
        "        node.split_attribute = best_attribute\n",
        "        node.order = best_order\n",
        "        return [\n",
        "            TreeNode(ids=split, entropy=self._entropy(split), depth=node.depth + 1)\n",
        "            for split in best_splits\n",
        "        ]\n",
        "\n",
        "  def _set_label(self, node: TreeNode) -> None:\n",
        "        if not node.ids:\n",
        "            node.label = self.labels[0]\n",
        "        else:\n",
        "            node.label = self.target.iloc[node.ids].mode()[0]\n",
        "\n",
        "  def fit(self, data: pd.DataFrame, target: pd.Series) -> None:\n",
        "        self.n_train = len(data)\n",
        "        self.data = data\n",
        "        self.attributes = data.columns.tolist()\n",
        "        self.target = target\n",
        "        self.labels = target.unique()\n",
        "\n",
        "        ids = list(range(self.n_train))\n",
        "        self.root = TreeNode(ids=ids, entropy=self._entropy(ids), depth=0)\n",
        "        queue = [self.root]\n",
        "\n",
        "        while queue:\n",
        "            node = queue.pop(0)\n",
        "            if node.depth >= self.max_depth or node.entropy == 0:\n",
        "                self._set_label(node)\n",
        "                continue\n",
        "\n",
        "            node.children = self._split(node)\n",
        "            if not node.children:\n",
        "                self._set_label(node)\n",
        "            else:\n",
        "                queue.extend(node.children)\n",
        "\n",
        "  def predict(self, data: pd.DataFrame) -> List[str]:\n",
        "        predictions = []\n",
        "        for _, row in data.iterrows():\n",
        "            node = self.root\n",
        "            while node.children:\n",
        "                value = str(row[node.split_attribute])\n",
        "                if value not in node.order:\n",
        "                    break\n",
        "                node = node.children[node.order.index(value)]\n",
        "            predictions.append(node.label)\n",
        "        return predictions"
      ],
      "metadata": {
        "id": "CX30He7vuJkP"
      },
      "execution_count": null,
      "outputs": []
    },
    {
      "cell_type": "code",
      "source": [
        "if __name__ == \"__main__\":\n",
        "    data = pd.DataFrame({\n",
        "        'outlook': ['sunny', 'sunny', 'overcast', 'rain', 'rain'],\n",
        "        'temperature': [85, 80, 83, 70, 68],\n",
        "        'humidity': ['high', 'high', 'high', 'normal', 'normal'],\n",
        "        'wind': ['weak', 'strong', 'weak', 'weak', 'strong']\n",
        "    })\n",
        "    target = pd.Series(['no', 'no', 'yes', 'yes', 'yes'])\n",
        "\n",
        "    tree = DecisionTreeID3(max_depth=3, min_samples_split=2, min_gain=1e-4)\n",
        "    tree.fit(data, target)\n",
        "    predictions = tree.predict(data)\n",
        "    print(\"Predictions:\", predictions)"
      ],
      "metadata": {
        "colab": {
          "base_uri": "https://localhost:8080/"
        },
        "id": "cOLUGvS28BY6",
        "outputId": "99255403-5bce-418e-9e7f-2d5a86b58dc9"
      },
      "execution_count": null,
      "outputs": [
        {
          "output_type": "stream",
          "name": "stdout",
          "text": [
            "Predictions: ['no', 'no', 'no', 'yes', 'yes']\n"
          ]
        }
      ]
    }
  ]
}